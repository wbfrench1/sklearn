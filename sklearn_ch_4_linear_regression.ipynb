{
  "nbformat": 4,
  "nbformat_minor": 0,
  "metadata": {
    "colab": {
      "provenance": [],
      "toc_visible": true,
      "authorship_tag": "ABX9TyO2xegawMTKxg9mVcKv3NS8"
    },
    "kernelspec": {
      "name": "python3",
      "display_name": "Python 3"
    },
    "language_info": {
      "name": "python"
    }
  },
  "cells": [
    {
      "cell_type": "markdown",
      "source": [
        "<a target=\"_blank\" href=\"https://colab.research.google.com/github/wbfrench1/sklearn/blob/65d9d76be2f66d5c633fcb367c54d5e8c52a7791/src/sklearn_ch_4_linear_regression.ipynb\">\n",
        "  <img src=\"https://colab.research.google.com/assets/colab-badge.svg\" alt=\"Open In Colab\"/>\n",
        "</a>"
      ],
      "metadata": {
        "id": "mMQJ2y91q0PN"
      }
    },
    {
      "cell_type": "markdown",
      "source": [
        "## Linear Regression"
      ],
      "metadata": {
        "id": "fXaRjLm_q1j_"
      }
    },
    {
      "cell_type": "markdown",
      "source": [
        "$\\hat{y} = \\theta_0 + \\theta_1x_1 + \\theta_2x_2 +\\dotsb+ \\theta_nx_n $\n",
        "<br><br>\n",
        "\n",
        "$\\hat{y}$ is the predicted value\n",
        "\n",
        "n is the number of features\n",
        "\n",
        "x is the $i^{th}$ feature value\n",
        "\n",
        "$\\theta_j$ is the $j^{th}$  model parameter, including the bias term $\\theta_0$ and the feature weights $\\theta_1$, $\\theta_2$, $\\dotsc$, $\\theta_n$"
      ],
      "metadata": {
        "id": "um69d7FRvYEn"
      }
    },
    {
      "cell_type": "markdown",
      "source": [
        "# Page 133"
      ],
      "metadata": {
        "id": "8-kHK8WrwjzP"
      }
    },
    {
      "cell_type": "code",
      "source": [],
      "metadata": {
        "id": "pn0fOLPu06gf"
      },
      "execution_count": null,
      "outputs": []
    }
  ]
}
