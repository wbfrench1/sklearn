{
  "nbformat": 4,
  "nbformat_minor": 0,
  "metadata": {
    "colab": {
      "provenance": [],
      "toc_visible": true,
      "authorship_tag": "ABX9TyMnRMGTX5kK/h55tOqgvTbl",
      "include_colab_link": true
    },
    "kernelspec": {
      "name": "python3",
      "display_name": "Python 3"
    },
    "language_info": {
      "name": "python"
    }
  },
  "cells": [
    {
      "cell_type": "markdown",
      "metadata": {
        "id": "view-in-github",
        "colab_type": "text"
      },
      "source": [
        "<a href=\"https://colab.research.google.com/github/wbfrench1/sklearn/blob/main/src/sklearn_ch_4_linear_regression.ipynb\" target=\"_parent\"><img src=\"https://colab.research.google.com/assets/colab-badge.svg\" alt=\"Open In Colab\"/></a>"
      ]
    },
    {
      "cell_type": "code",
      "source": [
        "import numpy as np\n",
        "import seaborn as sns\n",
        "import pandas as pd\n",
        "import matplotlib.pyplot as plt"
      ],
      "metadata": {
        "id": "PmBg9LyB6i-u"
      },
      "execution_count": 43,
      "outputs": []
    },
    {
      "cell_type": "markdown",
      "source": [
        "## Linear Regression Model"
      ],
      "metadata": {
        "id": "fXaRjLm_q1j_"
      }
    },
    {
      "cell_type": "markdown",
      "source": [
        "$\\hat{y} = \\theta_0 + \\theta_1x_1 + \\theta_2x_2 +\\dotsb+ \\theta_nx_n $\n",
        "<br><br>\n",
        "\n",
        "$\\hat{y}$ is the predicted value\n",
        "\n",
        "n is the number of features\n",
        "\n",
        "x is the $i^{th}$ feature value\n",
        "\n",
        "$\\theta_j$ is the $j^{th}$  model parameter, including the bias term $\\theta_0$ and the feature weights $\\theta_1$, $\\theta_2$, $\\dotsc$, $\\theta_n$"
      ],
      "metadata": {
        "id": "um69d7FRvYEn"
      }
    },
    {
      "cell_type": "markdown",
      "source": [
        "## Linear Regression Model \\(Vectorized Form)"
      ],
      "metadata": {
        "id": "8-kHK8WrwjzP"
      }
    },
    {
      "cell_type": "markdown",
      "source": [
        "$\\mathbf{\\hat{y}} = h_\\mathbf{θ}(\\mathbf{x}) =\\mathbf{θ} \\cdot \\mathbf{x}$\n",
        "\n",
        "$h_\\mathbf{θ}$ is the hypothesis function\n",
        "\n",
        "$\\mathbf{θ}$ is the model's parameter vector, containing the bias term $\\theta_0$ and the feature weights $\\theta_1$ to $\\theta_n$\n",
        "\n",
        "$\\mathbf{x}$ is the instance's feature vector, containing $x_0$ to $x_n$ with $x_0$ always equal to 1\n"
      ],
      "metadata": {
        "id": "pn0fOLPu06gf"
      }
    },
    {
      "cell_type": "markdown",
      "source": [
        "## Performance Metric- MSE cost function for a linear regression model\n",
        "\n",
        "$\\displaystyle MSE(\\mathbf{X}, h_\\mathbf{\\theta})$ = $\\frac{1}{m}\\displaystyle\\sum_{i=1}^{m}(\\theta^\\intercal\\mathbf{x}^{(i)}-y^{(i)})^2$"
      ],
      "metadata": {
        "id": "OJOUKLhL0sxx"
      }
    },
    {
      "cell_type": "code",
      "source": [
        "np.random.seed(42)  # to make the example reproducible\n",
        "m = 100 # number of instances\n",
        "X = 2 * np.random.rand(m, 1)  # column vector\n",
        "y = 4 + 3 * X + np.random.rand(m, 1) # column vector"
      ],
      "metadata": {
        "id": "9n3h-N4V4GpM"
      },
      "execution_count": 47,
      "outputs": []
    },
    {
      "cell_type": "code",
      "source": [
        "sns.scatterplot(pd.DataFrame(np.concatenate((X,y),axis=1)), x=0, y=1)\n",
        "plt.xlabel('x')\n",
        "plt.ylabel('y')"
      ],
      "metadata": {
        "id": "uFLGvHUM7Cc2",
        "outputId": "1e7e8079-e72e-494f-bb04-f3471bc21c7e",
        "colab": {
          "base_uri": "https://localhost:8080/",
          "height": 470
        }
      },
      "execution_count": 48,
      "outputs": [
        {
          "output_type": "execute_result",
          "data": {
            "text/plain": [
              "Text(0, 0.5, 'y')"
            ]
          },
          "metadata": {},
          "execution_count": 48
        },
        {
          "output_type": "display_data",
          "data": {
            "text/plain": [
              "<Figure size 640x480 with 1 Axes>"
            ],
            "image/png": "[encoded data removed]"
          },
          "metadata": {}
        }
      ]
    },
    {
      "cell_type": "code",
      "source": [],
      "metadata": {
        "id": "OAwc-Q4-7hr7"
      },
      "execution_count": null,
      "outputs": []
    }
  ]
}