{
  "nbformat": 4,
  "nbformat_minor": 0,
  "metadata": {
    "colab": {
      "provenance": [],
      "toc_visible": true,
      "authorship_tag": "ABX9TyPkESx6lcx1PMFNE6clfXnD",
      "include_colab_link": true
    },
    "kernelspec": {
      "name": "python3",
      "display_name": "Python 3"
    },
    "language_info": {
      "name": "python"
    }
  },
  "cells": [
    {
      "cell_type": "markdown",
      "metadata": {
        "id": "view-in-github",
        "colab_type": "text"
      },
      "source": [
        "<a href=\"https://colab.research.google.com/github/wbfrench1/sklearn/blob/main/src/sklearn_ch_4_linear_regression.ipynb\" target=\"_parent\"><img src=\"https://colab.research.google.com/assets/colab-badge.svg\" alt=\"Open In Colab\"/></a>"
      ]
    },
    {
      "cell_type": "code",
      "source": [
        "import numpy as np\n",
        "import seaborn as sns\n",
        "import pandas as pd\n",
        "import matplotlib.pyplot as plt\n",
        "from sklearn.preprocessing import add_dummy_feature"
      ],
      "metadata": {
        "id": "PmBg9LyB6i-u"
      },
      "execution_count": 1,
      "outputs": []
    },
    {
      "cell_type": "markdown",
      "source": [
        "## Linear Regression Model"
      ],
      "metadata": {
        "id": "fXaRjLm_q1j_"
      }
    },
    {
      "cell_type": "markdown",
      "source": [
        "### Simple, One Parameter Model"
      ],
      "metadata": {
        "id": "3oKq8aFzo2tw"
      }
    },
    {
      "cell_type": "markdown",
      "source": [
        "$\\hat{y} = \\theta_0 + \\theta_1x_1$\n",
        "<br><br>\n",
        "\n",
        "$\\hat{y}$ is the predicted value\n",
        "\n",
        "n is the number of features\n",
        "\n",
        "x is the feature value\n",
        "\n",
        "$\\theta_1$ is the model parameter, while the bias term is $\\theta_0$"
      ],
      "metadata": {
        "id": "T4hLZqd9pP4A"
      }
    },
    {
      "cell_type": "code",
      "source": [
        "from sklearn.linear_model import LinearRegression"
      ],
      "metadata": {
        "id": "zDwwe2FepuWo"
      },
      "execution_count": 3,
      "outputs": []
    },
    {
      "cell_type": "code",
      "source": [
        "# get the data\n",
        "str_data_root = 'https://github.com/ageron/data/raw/main/'\n",
        "df_lifesat = pd.read_csv(str_data_root + 'lifesat/lifesat.csv')\n",
        "df_lifesat.head()"
      ],
      "metadata": {
        "id": "j7Wb4o3Zp8u8",
        "outputId": "79e57ba7-16aa-4275-88cf-b4884d6f9c0b",
        "colab": {
          "base_uri": "https://localhost:8080/",
          "height": 206
        }
      },
      "execution_count": 8,
      "outputs": [
        {
          "output_type": "execute_result",
          "data": {
            "text/plain": [
              "   Country  GDP per capita (USD)  Life satisfaction\n",
              "0   Russia          26456.387938                5.8\n",
              "1   Greece          27287.083401                5.4\n",
              "2   Turkey          28384.987785                5.5\n",
              "3   Latvia          29932.493910                5.9\n",
              "4  Hungary          31007.768407                5.6"
            ],
            "text/html": [
              "\n",
              "  <div id=\"df-2bb28cd8-23c6-4285-8c45-96312bf1d059\" class=\"colab-df-container\">\n",
              "    <div>\n",
              "<style scoped>\n",
              "    .dataframe tbody tr th:only-of-type {\n",
              "        vertical-align: middle;\n",
              "    }\n",
              "\n",
              "    .dataframe tbody tr th {\n",
              "        vertical-align: top;\n",
              "    }\n",
              "\n",
              "    .dataframe thead th {\n",
              "        text-align: right;\n",
              "    }\n",
              "</style>\n",
              "<table border=\"1\" class=\"dataframe\">\n",
              "  <thead>\n",
              "    <tr style=\"text-align: right;\">\n",
              "      <th></th>\n",
              "      <th>Country</th>\n",
              "      <th>GDP per capita (USD)</th>\n",
              "      <th>Life satisfaction</th>\n",
              "    </tr>\n",
              "  </thead>\n",
              "  <tbody>\n",
              "    <tr>\n",
              "      <th>0</th>\n",
              "      <td>Russia</td>\n",
              "      <td>26456.387938</td>\n",
              "      <td>5.8</td>\n",
              "    </tr>\n",
              "    <tr>\n",
              "      <th>1</th>\n",
              "      <td>Greece</td>\n",
              "      <td>27287.083401</td>\n",
              "      <td>5.4</td>\n",
              "    </tr>\n",
              "    <tr>\n",
              "      <th>2</th>\n",
              "      <td>Turkey</td>\n",
              "      <td>28384.987785</td>\n",
              "      <td>5.5</td>\n",
              "    </tr>\n",
              "    <tr>\n",
              "      <th>3</th>\n",
              "      <td>Latvia</td>\n",
              "      <td>29932.493910</td>\n",
              "      <td>5.9</td>\n",
              "    </tr>\n",
              "    <tr>\n",
              "      <th>4</th>\n",
              "      <td>Hungary</td>\n",
              "      <td>31007.768407</td>\n",
              "      <td>5.6</td>\n",
              "    </tr>\n",
              "  </tbody>\n",
              "</table>\n",
              "</div>\n",
              "    <div class=\"colab-df-buttons\">\n",
              "\n",
              "  <div class=\"colab-df-container\">\n",
              "    <button class=\"colab-df-convert\" onclick=\"convertToInteractive('df-2bb28cd8-23c6-4285-8c45-96312bf1d059')\"\n",
              "            title=\"Convert this dataframe to an interactive table.\"\n",
              "            style=\"display:none;\">\n",
              "\n",
              "  <svg xmlns=\"http://www.w3.org/2000/svg\" height=\"24px\" viewBox=\"0 -960 960 960\">\n",
              "    <path d=\"M120-120v-720h720v720H120Zm60-500h600v-160H180v160Zm220 220h160v-160H400v160Zm0 220h160v-160H400v160ZM180-400h160v-160H180v160Zm440 0h160v-160H620v160ZM180-180h160v-160H180v160Zm440 0h160v-160H620v160Z\"/>\n",
              "  </svg>\n",
              "    </button>\n",
              "\n",
              "  <style>\n",
              "    .colab-df-container {\n",
              "      display:flex;\n",
              "      gap: 12px;\n",
              "    }\n",
              "\n",
              "    .colab-df-convert {\n",
              "      background-color: #E8F0FE;\n",
              "      border: none;\n",
              "      border-radius: 50%;\n",
              "      cursor: pointer;\n",
              "      display: none;\n",
              "      fill: #1967D2;\n",
              "      height: 32px;\n",
              "      padding: 0 0 0 0;\n",
              "      width: 32px;\n",
              "    }\n",
              "\n",
              "    .colab-df-convert:hover {\n",
              "      background-color: #E2EBFA;\n",
              "      box-shadow: 0px 1px 2px rgba(60, 64, 67, 0.3), 0px 1px 3px 1px rgba(60, 64, 67, 0.15);\n",
              "      fill: #174EA6;\n",
              "    }\n",
              "\n",
              "    .colab-df-buttons div {\n",
              "      margin-bottom: 4px;\n",
              "    }\n",
              "\n",
              "    [theme=dark] .colab-df-convert {\n",
              "      background-color: #3B4455;\n",
              "      fill: #D2E3FC;\n",
              "    }\n",
              "\n",
              "    [theme=dark] .colab-df-convert:hover {\n",
              "      background-color: #434B5C;\n",
              "      box-shadow: 0px 1px 3px 1px rgba(0, 0, 0, 0.15);\n",
              "      filter: drop-shadow(0px 1px 2px rgba(0, 0, 0, 0.3));\n",
              "      fill: #FFFFFF;\n",
              "    }\n",
              "  </style>\n",
              "\n",
              "    <script>\n",
              "      const buttonEl =\n",
              "        document.querySelector('#df-2bb28cd8-23c6-4285-8c45-96312bf1d059 button.colab-df-convert');\n",
              "      buttonEl.style.display =\n",
              "        google.colab.kernel.accessAllowed ? 'block' : 'none';\n",
              "\n",
              "      async function convertToInteractive(key) {\n",
              "        const element = document.querySelector('#df-2bb28cd8-23c6-4285-8c45-96312bf1d059');\n",
              "        const dataTable =\n",
              "          await google.colab.kernel.invokeFunction('convertToInteractive',\n",
              "                                                    [key], {});\n",
              "        if (!dataTable) return;\n",
              "\n",
              "        const docLinkHtml = 'Like what you see? Visit the ' +\n",
              "          '<a target=\"_blank\" href=https://colab.research.google.com/notebooks/data_table.ipynb>data table notebook</a>'\n",
              "          + ' to learn more about interactive tables.';\n",
              "        element.innerHTML = '';\n",
              "        dataTable['output_type'] = 'display_data';\n",
              "        await google.colab.output.renderOutput(dataTable, element);\n",
              "        const docLink = document.createElement('div');\n",
              "        docLink.innerHTML = docLinkHtml;\n",
              "        element.appendChild(docLink);\n",
              "      }\n",
              "    </script>\n",
              "  </div>\n",
              "\n",
              "\n",
              "<div id=\"df-d88c18f0-d115-4879-945f-3d3f48bab569\">\n",
              "  <button class=\"colab-df-quickchart\" onclick=\"quickchart('df-d88c18f0-d115-4879-945f-3d3f48bab569')\"\n",
              "            title=\"Suggest charts\"\n",
              "            style=\"display:none;\">\n",
              "\n",
              "<svg xmlns=\"http://www.w3.org/2000/svg\" height=\"24px\"viewBox=\"0 0 24 24\"\n",
              "     width=\"24px\">\n",
              "    <g>\n",
              "        <path d=\"M19 3H5c-1.1 0-2 .9-2 2v14c0 1.1.9 2 2 2h14c1.1 0 2-.9 2-2V5c0-1.1-.9-2-2-2zM9 17H7v-7h2v7zm4 0h-2V7h2v10zm4 0h-2v-4h2v4z\"/>\n",
              "    </g>\n",
              "</svg>\n",
              "  </button>\n",
              "\n",
              "<style>\n",
              "  .colab-df-quickchart {\n",
              "      --bg-color: #E8F0FE;\n",
              "      --fill-color: #1967D2;\n",
              "      --hover-bg-color: #E2EBFA;\n",
              "      --hover-fill-color: #174EA6;\n",
              "      --disabled-fill-color: #AAA;\n",
              "      --disabled-bg-color: #DDD;\n",
              "  }\n",
              "\n",
              "  [theme=dark] .colab-df-quickchart {\n",
              "      --bg-color: #3B4455;\n",
              "      --fill-color: #D2E3FC;\n",
              "      --hover-bg-color: #434B5C;\n",
              "      --hover-fill-color: #FFFFFF;\n",
              "      --disabled-bg-color: #3B4455;\n",
              "      --disabled-fill-color: #666;\n",
              "  }\n",
              "\n",
              "  .colab-df-quickchart {\n",
              "    background-color: var(--bg-color);\n",
              "    border: none;\n",
              "    border-radius: 50%;\n",
              "    cursor: pointer;\n",
              "    display: none;\n",
              "    fill: var(--fill-color);\n",
              "    height: 32px;\n",
              "    padding: 0;\n",
              "    width: 32px;\n",
              "  }\n",
              "\n",
              "  .colab-df-quickchart:hover {\n",
              "    background-color: var(--hover-bg-color);\n",
              "    box-shadow: 0 1px 2px rgba(60, 64, 67, 0.3), 0 1px 3px 1px rgba(60, 64, 67, 0.15);\n",
              "    fill: var(--button-hover-fill-color);\n",
              "  }\n",
              "\n",
              "  .colab-df-quickchart-complete:disabled,\n",
              "  .colab-df-quickchart-complete:disabled:hover {\n",
              "    background-color: var(--disabled-bg-color);\n",
              "    fill: var(--disabled-fill-color);\n",
              "    box-shadow: none;\n",
              "  }\n",
              "\n",
              "  .colab-df-spinner {\n",
              "    border: 2px solid var(--fill-color);\n",
              "    border-color: transparent;\n",
              "    border-bottom-color: var(--fill-color);\n",
              "    animation:\n",
              "      spin 1s steps(1) infinite;\n",
              "  }\n",
              "\n",
              "  @keyframes spin {\n",
              "    0% {\n",
              "      border-color: transparent;\n",
              "      border-bottom-color: var(--fill-color);\n",
              "      border-left-color: var(--fill-color);\n",
              "    }\n",
              "    20% {\n",
              "      border-color: transparent;\n",
              "      border-left-color: var(--fill-color);\n",
              "      border-top-color: var(--fill-color);\n",
              "    }\n",
              "    30% {\n",
              "      border-color: transparent;\n",
              "      border-left-color: var(--fill-color);\n",
              "      border-top-color: var(--fill-color);\n",
              "      border-right-color: var(--fill-color);\n",
              "    }\n",
              "    40% {\n",
              "      border-color: transparent;\n",
              "      border-right-color: var(--fill-color);\n",
              "      border-top-color: var(--fill-color);\n",
              "    }\n",
              "    60% {\n",
              "      border-color: transparent;\n",
              "      border-right-color: var(--fill-color);\n",
              "    }\n",
              "    80% {\n",
              "      border-color: transparent;\n",
              "      border-right-color: var(--fill-color);\n",
              "      border-bottom-color: var(--fill-color);\n",
              "    }\n",
              "    90% {\n",
              "      border-color: transparent;\n",
              "      border-bottom-color: var(--fill-color);\n",
              "    }\n",
              "  }\n",
              "</style>\n",
              "\n",
              "  <script>\n",
              "    async function quickchart(key) {\n",
              "      const quickchartButtonEl =\n",
              "        document.querySelector('#' + key + ' button');\n",
              "      quickchartButtonEl.disabled = true;  // To prevent multiple clicks.\n",
              "      quickchartButtonEl.classList.add('colab-df-spinner');\n",
              "      try {\n",
              "        const charts = await google.colab.kernel.invokeFunction(\n",
              "            'suggestCharts', [key], {});\n",
              "      } catch (error) {\n",
              "        console.error('Error during call to suggestCharts:', error);\n",
              "      }\n",
              "      quickchartButtonEl.classList.remove('colab-df-spinner');\n",
              "      quickchartButtonEl.classList.add('colab-df-quickchart-complete');\n",
              "    }\n",
              "    (() => {\n",
              "      let quickchartButtonEl =\n",
              "        document.querySelector('#df-d88c18f0-d115-4879-945f-3d3f48bab569 button');\n",
              "      quickchartButtonEl.style.display =\n",
              "        google.colab.kernel.accessAllowed ? 'block' : 'none';\n",
              "    })();\n",
              "  </script>\n",
              "</div>\n",
              "\n",
              "    </div>\n",
              "  </div>\n"
            ]
          },
          "metadata": {},
          "execution_count": 8
        }
      ]
    },
    {
      "cell_type": "code",
      "source": [
        "X = df_lifesat[['GDP per capita (USD)']]\n",
        "y = df_lifesat[['Life satisfaction']]\n",
        "x_axis_start = 23500\n",
        "x_axis_stop =  62500\n",
        "y_axis_start = 4\n",
        "y_axis_stop  = 9\n",
        "\n",
        "#Select the model\n",
        "model = LinearRegression()\n",
        "#Train the model\n",
        "model.fit(X,y)\n",
        "# Model domain\n",
        "x_model_domain = np.linspace(x_axis_start, x_axis_stop)\n",
        "# Model predictions\n",
        "y_pred = model.predict((x_model_domain).reshape(-1,1))"
      ],
      "metadata": {
        "id": "4YqjGWJZqYGB",
        "outputId": "1a861591-cf35-495b-b31a-969137f18d48",
        "colab": {
          "base_uri": "https://localhost:8080/"
        }
      },
      "execution_count": 31,
      "outputs": [
        {
          "output_type": "stream",
          "name": "stderr",
          "text": [
            "/usr/local/lib/python3.10/dist-packages/sklearn/base.py:439: UserWarning: X does not have valid feature names, but LinearRegression was fitted with feature names\n",
            "  warnings.warn(\n"
          ]
        }
      ]
    },
    {
      "cell_type": "code",
      "source": [
        "theta1 = model.coef_\n",
        "theta0 = model.intercept_"
      ],
      "metadata": {
        "id": "6uLrb3dYxetn",
        "outputId": "97a89b5c-ec52-4e2c-e9c4-d7470628126c",
        "colab": {
          "base_uri": "https://localhost:8080/"
        }
      },
      "execution_count": 52,
      "outputs": [
        {
          "output_type": "execute_result",
          "data": {
            "text/plain": [
              "array([6.77889969e-05])"
            ]
          },
          "metadata": {},
          "execution_count": 52
        }
      ]
    },
    {
      "cell_type": "code",
      "source": [],
      "metadata": {
        "id": "05-OYUdi1P0B",
        "outputId": "c920ec80-882a-4eec-b819-ad3848f58da4",
        "colab": {
          "base_uri": "https://localhost:8080/",
          "height": 35
        }
      },
      "execution_count": 59,
      "outputs": [
        {
          "output_type": "execute_result",
          "data": {
            "text/plain": [
              "'6.78 x 10^(-05)'"
            ],
            "application/vnd.google.colaboratory.intrinsic+json": {
              "type": "string"
            }
          },
          "metadata": {},
          "execution_count": 59
        }
      ]
    },
    {
      "cell_type": "code",
      "source": [
        "plt.scatter(x=X, y=Y)\n",
        "plt.plot(x_model_domain, y_pred)\n",
        "plt.axis([x_axis_start,x_axis_stop,y_axis_start,y_axis_stop])\n",
        "plt.xlabel('GDP per capita (USD)')\n",
        "plt.ylabel('Life Satisfaction')\n",
        "plt.text(50000, 6, r'$\\theta_0 $ = {}'.format(round(theta0[0],2)))\n",
        "plt.text(50000, 5.5, r'$\\theta_1 $ = {}'.format(format(theta1[0][0], '.2e').replace('e', ' x 10^(') + ')'))\n",
        "plt.show()"
      ],
      "metadata": {
        "id": "gc6stK4Lqyym",
        "outputId": "7e253c9f-e5e0-4bce-d533-5d03c7c7d1f2",
        "colab": {
          "base_uri": "https://localhost:8080/",
          "height": 455
        }
      },
      "execution_count": 64,
      "outputs": [
        {
          "output_type": "display_data",
          "data": {
            "text/plain": [
              "<Figure size 640x480 with 1 Axes>"
            ],
            "image/png": "[encoded data removed]"
          },
          "metadata": {}
        }
      ]
    },
    {
      "cell_type": "markdown",
      "source": [
        "### Multi-Parameter Model"
      ],
      "metadata": {
        "id": "4SLE15k7pLnw"
      }
    },
    {
      "cell_type": "markdown",
      "source": [
        "$\\hat{y} = \\theta_0 + \\theta_1x_1 + \\theta_2x_2 +\\dotsb+ \\theta_nx_n $\n",
        "<br><br>\n",
        "\n",
        "$\\hat{y}$ is the predicted value\n",
        "\n",
        "n is the number of features\n",
        "\n",
        "x is the $i^{th}$ feature value\n",
        "\n",
        "$\\theta_j$ is the $j^{th}$  model parameter, including the bias term $\\theta_0$ and the feature weights $\\theta_1$, $\\theta_2$, $\\dotsc$, $\\theta_n$"
      ],
      "metadata": {
        "id": "um69d7FRvYEn"
      }
    },
    {
      "cell_type": "markdown",
      "source": [
        "## Linear Regression Model \\(Vectorized Form)"
      ],
      "metadata": {
        "id": "8-kHK8WrwjzP"
      }
    },
    {
      "cell_type": "markdown",
      "source": [
        "$\\mathbf{\\hat{y}} = h_\\mathbf{θ}(\\mathbf{x}) =\\mathbf{θ} \\cdot \\mathbf{x}$\n",
        "\n",
        "$h_\\mathbf{θ}$ is the hypothesis function\n",
        "\n",
        "$\\mathbf{θ}$ is the model's parameter vector, containing the bias term $\\theta_0$ and the feature weights $\\theta_1$ to $\\theta_n$\n",
        "\n",
        "$\\mathbf{x}$ is the instance's feature vector, containing $x_0$ to $x_n$ with $x_0$ always equal to 1\n"
      ],
      "metadata": {
        "id": "pn0fOLPu06gf"
      }
    },
    {
      "cell_type": "markdown",
      "source": [
        "## Performance Metric- MSE cost function for a linear regression model\n",
        "\n",
        "$\\displaystyle MSE(\\mathbf{X}, h_\\mathbf{\\theta})$ = $\\frac{1}{m}\\displaystyle\\sum_{i=1}^{m}(\\theta^\\intercal\\mathbf{x}^{(i)}-y^{(i)})^2$"
      ],
      "metadata": {
        "id": "OJOUKLhL0sxx"
      }
    },
    {
      "cell_type": "code",
      "source": [
        "np.random.seed(42)  # to make the example reproducible\n",
        "m = 100 # number of instances\n",
        "X = 2 * np.random.rand(m, 1)  # column vector\n",
        "y = 4 + 3 * X + np.random.rand(m, 1) # column vector"
      ],
      "metadata": {
        "id": "9n3h-N4V4GpM"
      },
      "execution_count": null,
      "outputs": []
    },
    {
      "cell_type": "code",
      "source": [
        "df = pd.DataFrame(np.concatenate((X,y),axis=1),columns=['X', 'y'])"
      ],
      "metadata": {
        "id": "XnRrwB5-h-vH"
      },
      "execution_count": null,
      "outputs": []
    },
    {
      "cell_type": "code",
      "source": [
        "g = sns.scatterplot(df, x='X', y='y',)\n",
        "g.set_title('X vs y')"
      ],
      "metadata": {
        "id": "uFLGvHUM7Cc2",
        "outputId": "0ae86ce5-baf4-4470-b963-5b91cb4f756b",
        "colab": {
          "base_uri": "https://localhost:8080/",
          "height": 490
        }
      },
      "execution_count": null,
      "outputs": [
        {
          "output_type": "execute_result",
          "data": {
            "text/plain": [
              "Text(0.5, 1.0, 'X vs y')"
            ]
          },
          "metadata": {},
          "execution_count": 83
        },
        {
          "output_type": "display_data",
          "data": {
            "text/plain": [
              "<Figure size 640x480 with 1 Axes>"
            ],
            "image/png": "[encoded data removed]"
          },
          "metadata": {}
        }
      ]
    },
    {
      "cell_type": "markdown",
      "source": [
        "## Batch Gradient Descent\n",
        "\n",
        "### Partial derivatives of the cost function\n",
        "\n",
        "$\\frac{\\partial{}}{\\partial \\theta_j} \\displaystyle{MSE}(\\displaystyle{\\mathbf{\\theta}}) = \\frac{2}{m}\\displaystyle\\sum_{i=1}^{m}(\\theta^\\intercal\\mathbf{x}^{(i)}-y^{(i)})x^{(i)}_j$\n",
        "\n",
        "### Gradient vector of the cost function\n",
        "\n",
        "$\\nabla_\\theta \\displaystyle{MSE(\\theta)} =\n",
        " \\begin{pmatrix}\n",
        "  \\frac{\\partial{}}{\\partial \\theta_0}\\displaystyle{MSE}(\\displaystyle{\\mathbf{\\theta}}) \\\\\n",
        "  \\frac{\\partial{}}{\\partial \\theta_1} \\displaystyle{MSE}(\\displaystyle{\\mathbf{\\theta}})\\\\\n",
        "  \\vdots \\\\\n",
        "  \\frac{\\partial{}}{\\partial \\theta_n} \\displaystyle{MSE}(\\displaystyle{\\mathbf{\\theta}})\\\\\n",
        " \\end{pmatrix} = \\frac{2}{m}\\displaystyle{\\mathbf{X}}^\\intercal(\\displaystyle{\\mathbf{X\\theta}} - \\mathbf{y})$\n",
        "\n",
        "### Gradient descent step\n",
        "$\\mathbf{\\theta}^{(next \\, step)}  = \\mathbf{\\theta} -  \\eta\\nabla_\\theta\\displaystyle{MSE}(\\displaystyle{\\mathbf{\\theta}})$\n"
      ],
      "metadata": {
        "id": "OAwc-Q4-7hr7"
      }
    },
    {
      "cell_type": "code",
      "source": [
        "X_b = add_dummy_feature(X) # add X0 = 1 to each instance\n",
        "\n",
        "eta = 0.1 # learning rate\n",
        "n_epochs = 1000\n",
        "m = len(X_b)  # number of instances"
      ],
      "metadata": {
        "id": "HZIHyjDQkeAS"
      },
      "execution_count": null,
      "outputs": []
    },
    {
      "cell_type": "code",
      "source": [
        "np.random.seed(42)\n",
        "theta = np.random.randn(2,1)  # randomly initialized model parameters"
      ],
      "metadata": {
        "id": "ZyuB_7bExItK"
      },
      "execution_count": null,
      "outputs": []
    },
    {
      "cell_type": "code",
      "source": [
        "# updates the gradient values\n",
        "for epoch in range(n_epochs):\n",
        "    gradients = 2/m * X_b.T @ (X_b @ theta - y)\n",
        "    theta = theta - eta * gradients\n",
        "\n",
        "theta"
      ],
      "metadata": {
        "id": "rHIJpvswxrnq",
        "outputId": "7e56414e-1a0b-400f-869a-6146afd1ebc8",
        "colab": {
          "base_uri": "https://localhost:8080/"
        }
      },
      "execution_count": null,
      "outputs": [
        {
          "output_type": "execute_result",
          "data": {
            "text/plain": [
              "array([[4.51359766],\n",
              "       [2.98323418]])"
            ]
          },
          "metadata": {},
          "execution_count": 86
        }
      ]
    },
    {
      "cell_type": "code",
      "source": [
        "# input x's -- each one is a complete set of independent variables\n",
        "print(X_b.shape)\n",
        "X_b[:3]"
      ],
      "metadata": {
        "id": "8Ybw5Z7pzGXe",
        "outputId": "23ccde1a-f930-4043-e4d2-437b9933794e",
        "colab": {
          "base_uri": "https://localhost:8080/"
        }
      },
      "execution_count": null,
      "outputs": [
        {
          "output_type": "stream",
          "name": "stdout",
          "text": [
            "(100, 2)\n"
          ]
        },
        {
          "output_type": "execute_result",
          "data": {
            "text/plain": [
              "array([[1.        , 0.74908024],\n",
              "       [1.        , 1.90142861],\n",
              "       [1.        , 1.46398788]])"
            ]
          },
          "metadata": {},
          "execution_count": 87
        }
      ]
    },
    {
      "cell_type": "code",
      "source": [
        "# predictions\n",
        "print((X_b @ theta).shape)\n",
        "(X_b @ theta)[:3]"
      ],
      "metadata": {
        "id": "gnes10j7zKi1",
        "outputId": "e2d76fa2-f935-4ad9-d848-0acec9a7023f",
        "colab": {
          "base_uri": "https://localhost:8080/"
        }
      },
      "execution_count": null,
      "outputs": [
        {
          "output_type": "stream",
          "name": "stdout",
          "text": [
            "(100, 1)\n"
          ]
        },
        {
          "output_type": "execute_result",
          "data": {
            "text/plain": [
              "array([[ 6.74827942],\n",
              "       [10.18600448],\n",
              "       [ 8.88101635]])"
            ]
          },
          "metadata": {},
          "execution_count": 88
        }
      ]
    },
    {
      "cell_type": "code",
      "source": [
        "# cost function (predicted value - actual value)\n",
        "(X_b @ theta - y)[:3]"
      ],
      "metadata": {
        "id": "ejQ7V8dhyHYK",
        "outputId": "9b3712d4-242e-4770-eef7-e767b555e6ae",
        "colab": {
          "base_uri": "https://localhost:8080/"
        }
      },
      "execution_count": null,
      "outputs": [
        {
          "output_type": "execute_result",
          "data": {
            "text/plain": [
              "array([[ 0.46960952],\n",
              "       [-0.15469177],\n",
              "       [ 0.17469672]])"
            ]
          },
          "metadata": {},
          "execution_count": 89
        }
      ]
    },
    {
      "cell_type": "code",
      "source": [
        "theta"
      ],
      "metadata": {
        "id": "smWoyT2uyro3",
        "colab": {
          "base_uri": "https://localhost:8080/"
        },
        "outputId": "9e982527-ee0d-4d7c-f986-3e927a05fc28"
      },
      "execution_count": null,
      "outputs": [
        {
          "output_type": "execute_result",
          "data": {
            "text/plain": [
              "array([[4.51359766],\n",
              "       [2.98323418]])"
            ]
          },
          "metadata": {},
          "execution_count": 90
        }
      ]
    },
    {
      "cell_type": "markdown",
      "source": [
        "## Illustration of various learning rates"
      ],
      "metadata": {
        "id": "AQDrbdzNHNI_"
      }
    },
    {
      "cell_type": "code",
      "source": [
        "# start off with one learning rate and do the below\n",
        "# create a list of learning rates\n",
        "# run a complete set of epochs for each learning rate\n",
        "## for each epoch save the resulting regression equation\n",
        "# for each learning rate, graph the set of regression equations\n",
        "## each equation should have a progressively darker line"
      ],
      "metadata": {
        "id": "tQ4pp2unHxN-"
      },
      "execution_count": null,
      "outputs": []
    },
    {
      "cell_type": "code",
      "source": [
        "def update_regression_coefs (a_X_b: np.ndarray,\n",
        "                          a_y: np.ndarray,\n",
        "                          a_theta: np.ndarray,\n",
        "                          f_eta: float,\n",
        "                          ) -> np.ndarray:\n",
        "\n",
        "    ''' a_X= an np.ndarray containing independent variables\n",
        "        a_y= an np.ndarray containing dependent variable\n",
        "        a_theta = an np.ndarray containing the current regression coefficients\n",
        "        f_eta = a float containing the learning rate for the algorithm\n",
        "\n",
        "        returns: np.ndarray containing the updated regression line cofficients\n",
        "    '''\n",
        "\n",
        "    # updates the gradient values\n",
        "    a_gradients = 2/m * a_X_b.T @ (a_X_b @ theta - a_y)\n",
        "    a_theta = theta - f_eta * a_gradients\n",
        "\n",
        "    return a_theta"
      ],
      "metadata": {
        "id": "qjy0JvZFIn0v"
      },
      "execution_count": null,
      "outputs": []
    },
    {
      "cell_type": "code",
      "source": [
        "# test new function\n",
        "np.random.seed(42)\n",
        "theta = np.random.randn(2,1)  # randomly initialized model parameters\n",
        "\n",
        "#\n",
        "update_regression_coefs(a_X_b= X_b,\n",
        "                     a_y= y,\n",
        "                     a_theta= theta,\n",
        "                     f_eta = 0.1)"
      ],
      "metadata": {
        "colab": {
          "base_uri": "https://localhost:8080/"
        },
        "id": "t0fTrkxbKlX0",
        "outputId": "3559bd32-73c2-4eba-af5c-8563ec38b105"
      },
      "execution_count": null,
      "outputs": [
        {
          "output_type": "execute_result",
          "data": {
            "text/plain": [
              "array([[1.88715824],\n",
              "       [1.38804772]])"
            ]
          },
          "metadata": {},
          "execution_count": 93
        }
      ]
    },
    {
      "cell_type": "code",
      "source": [
        "# test looping\n",
        "\n",
        "def train_regression_model (a_X_b: np.ndarray,\n",
        "                            a_y: np.ndarray,\n",
        "                            f_eta: float,\n",
        "                            int_epochs: int,\n",
        "                            ) -> list:\n",
        "\n",
        "    ''' a_X= an np.ndarray containing independent variables\n",
        "        a_y= an np.ndarray containing dependent variable\n",
        "        f_eta = a float containing the learning rate for the algorithm\n",
        "        int_epochs= a integer representing number of times\n",
        "\n",
        "        returns: np.ndarray containing the updated regression line cofficients\n",
        "    '''\n",
        "\n",
        "a_thetas= np.empty([1,2])\n",
        "int_epochs = 1\n",
        "print('initialized a_thetas:', a_thetas)\n",
        "np.random.seed(42)\n",
        "theta = np.random.randn(2,1)  # randomly initialized model parameters\n",
        "print('theta random:', theta)\n",
        "for epoch in range(0, int_epochs):\n",
        "    theta = update_regression_coefs(a_X_b= X_b,\n",
        "                                    a_y= y,\n",
        "                                    a_theta= theta,\n",
        "                                    f_eta = 0.1\n",
        "                                    )\n",
        "    print('theta', theta)\n",
        "    a_thetas = np.vstack([a_thetas,theta.reshape(1,2)])\n",
        "\n",
        "print('\\n a_thetas:', a_thetas)"
      ],
      "metadata": {
        "colab": {
          "base_uri": "https://localhost:8080/"
        },
        "id": "730MTR_JLkgb",
        "outputId": "494c7015-7c20-42e1-d4d6-b836d58aabd4"
      },
      "execution_count": null,
      "outputs": [
        {
          "output_type": "stream",
          "name": "stdout",
          "text": [
            "initialized a_thetas: [[1.88715824 1.38804772]]\n",
            "theta random: [[ 0.49671415]\n",
            " [-0.1382643 ]]\n",
            "theta [[1.88715824]\n",
            " [1.38804772]]\n",
            "\n",
            " a_thetas: [[1.88715824 1.38804772]\n",
            " [1.88715824 1.38804772]]\n"
          ]
        }
      ]
    },
    {
      "cell_type": "code",
      "source": [
        "a_thetas.reshape(2,3)"
      ],
      "metadata": {
        "id": "AibaCMmig6KH",
        "outputId": "ae156939-ace9-414f-8dcb-a3f6240e4890",
        "colab": {
          "base_uri": "https://localhost:8080/"
        }
      },
      "execution_count": null,
      "outputs": [
        {
          "output_type": "execute_result",
          "data": {
            "text/plain": [
              "array([[1.88715824, 1.38804772, 1.88715824],\n",
              "       [1.38804772, 1.88715824, 1.38804772]])"
            ]
          },
          "metadata": {},
          "execution_count": 140
        }
      ]
    },
    {
      "cell_type": "code",
      "source": [
        "# generates equally spaced x's in (0,2) as a row vector\n",
        "X_1 = np.linspace(0,2)\n",
        "X_1"
      ],
      "metadata": {
        "id": "kR0JIckVHYEI",
        "outputId": "d9d61200-b9a2-44cf-b8af-494c4124bd78",
        "colab": {
          "base_uri": "https://localhost:8080/"
        }
      },
      "execution_count": null,
      "outputs": [
        {
          "output_type": "execute_result",
          "data": {
            "text/plain": [
              "array([0.        , 0.04081633, 0.08163265, 0.12244898, 0.16326531,\n",
              "       0.20408163, 0.24489796, 0.28571429, 0.32653061, 0.36734694,\n",
              "       0.40816327, 0.44897959, 0.48979592, 0.53061224, 0.57142857,\n",
              "       0.6122449 , 0.65306122, 0.69387755, 0.73469388, 0.7755102 ,\n",
              "       0.81632653, 0.85714286, 0.89795918, 0.93877551, 0.97959184,\n",
              "       1.02040816, 1.06122449, 1.10204082, 1.14285714, 1.18367347,\n",
              "       1.2244898 , 1.26530612, 1.30612245, 1.34693878, 1.3877551 ,\n",
              "       1.42857143, 1.46938776, 1.51020408, 1.55102041, 1.59183673,\n",
              "       1.63265306, 1.67346939, 1.71428571, 1.75510204, 1.79591837,\n",
              "       1.83673469, 1.87755102, 1.91836735, 1.95918367, 2.        ])"
            ]
          },
          "metadata": {},
          "execution_count": 110
        }
      ]
    },
    {
      "cell_type": "code",
      "source": [
        "#reshapes the row vector as a column vector\n",
        "X_1 = X_1.reshape(-1,1)\n",
        "X_1"
      ],
      "metadata": {
        "id": "Yr1CQL3qPvv2",
        "outputId": "fbe09d6e-31fb-4fcc-ee79-a96cf5af38de",
        "colab": {
          "base_uri": "https://localhost:8080/"
        }
      },
      "execution_count": null,
      "outputs": [
        {
          "output_type": "execute_result",
          "data": {
            "text/plain": [
              "array([[0.        ],\n",
              "       [0.04081633],\n",
              "       [0.08163265],\n",
              "       [0.12244898],\n",
              "       [0.16326531],\n",
              "       [0.20408163],\n",
              "       [0.24489796],\n",
              "       [0.28571429],\n",
              "       [0.32653061],\n",
              "       [0.36734694],\n",
              "       [0.40816327],\n",
              "       [0.44897959],\n",
              "       [0.48979592],\n",
              "       [0.53061224],\n",
              "       [0.57142857],\n",
              "       [0.6122449 ],\n",
              "       [0.65306122],\n",
              "       [0.69387755],\n",
              "       [0.73469388],\n",
              "       [0.7755102 ],\n",
              "       [0.81632653],\n",
              "       [0.85714286],\n",
              "       [0.89795918],\n",
              "       [0.93877551],\n",
              "       [0.97959184],\n",
              "       [1.02040816],\n",
              "       [1.06122449],\n",
              "       [1.10204082],\n",
              "       [1.14285714],\n",
              "       [1.18367347],\n",
              "       [1.2244898 ],\n",
              "       [1.26530612],\n",
              "       [1.30612245],\n",
              "       [1.34693878],\n",
              "       [1.3877551 ],\n",
              "       [1.42857143],\n",
              "       [1.46938776],\n",
              "       [1.51020408],\n",
              "       [1.55102041],\n",
              "       [1.59183673],\n",
              "       [1.63265306],\n",
              "       [1.67346939],\n",
              "       [1.71428571],\n",
              "       [1.75510204],\n",
              "       [1.79591837],\n",
              "       [1.83673469],\n",
              "       [1.87755102],\n",
              "       [1.91836735],\n",
              "       [1.95918367],\n",
              "       [2.        ]])"
            ]
          },
          "metadata": {},
          "execution_count": 111
        }
      ]
    },
    {
      "cell_type": "code",
      "source": [
        "# add a dummy variable, 1, to permit the constant to work\n",
        "X_1 = add_dummy_feature(X_1)\n",
        "X_1"
      ],
      "metadata": {
        "id": "_CE6ccUaOIfC",
        "outputId": "a9fab09c-dca4-4468-e7d7-5d04eabbcb61",
        "colab": {
          "base_uri": "https://localhost:8080/"
        }
      },
      "execution_count": null,
      "outputs": [
        {
          "output_type": "execute_result",
          "data": {
            "text/plain": [
              "array([[1.        , 0.        ],\n",
              "       [1.        , 0.04081633],\n",
              "       [1.        , 0.08163265],\n",
              "       [1.        , 0.12244898],\n",
              "       [1.        , 0.16326531],\n",
              "       [1.        , 0.20408163],\n",
              "       [1.        , 0.24489796],\n",
              "       [1.        , 0.28571429],\n",
              "       [1.        , 0.32653061],\n",
              "       [1.        , 0.36734694],\n",
              "       [1.        , 0.40816327],\n",
              "       [1.        , 0.44897959],\n",
              "       [1.        , 0.48979592],\n",
              "       [1.        , 0.53061224],\n",
              "       [1.        , 0.57142857],\n",
              "       [1.        , 0.6122449 ],\n",
              "       [1.        , 0.65306122],\n",
              "       [1.        , 0.69387755],\n",
              "       [1.        , 0.73469388],\n",
              "       [1.        , 0.7755102 ],\n",
              "       [1.        , 0.81632653],\n",
              "       [1.        , 0.85714286],\n",
              "       [1.        , 0.89795918],\n",
              "       [1.        , 0.93877551],\n",
              "       [1.        , 0.97959184],\n",
              "       [1.        , 1.02040816],\n",
              "       [1.        , 1.06122449],\n",
              "       [1.        , 1.10204082],\n",
              "       [1.        , 1.14285714],\n",
              "       [1.        , 1.18367347],\n",
              "       [1.        , 1.2244898 ],\n",
              "       [1.        , 1.26530612],\n",
              "       [1.        , 1.30612245],\n",
              "       [1.        , 1.34693878],\n",
              "       [1.        , 1.3877551 ],\n",
              "       [1.        , 1.42857143],\n",
              "       [1.        , 1.46938776],\n",
              "       [1.        , 1.51020408],\n",
              "       [1.        , 1.55102041],\n",
              "       [1.        , 1.59183673],\n",
              "       [1.        , 1.63265306],\n",
              "       [1.        , 1.67346939],\n",
              "       [1.        , 1.71428571],\n",
              "       [1.        , 1.75510204],\n",
              "       [1.        , 1.79591837],\n",
              "       [1.        , 1.83673469],\n",
              "       [1.        , 1.87755102],\n",
              "       [1.        , 1.91836735],\n",
              "       [1.        , 1.95918367],\n",
              "       [1.        , 2.        ]])"
            ]
          },
          "metadata": {},
          "execution_count": 112
        }
      ]
    },
    {
      "cell_type": "code",
      "source": [
        "X_1.shape"
      ],
      "metadata": {
        "id": "eA5eUN67OIxT",
        "outputId": "9d1c348a-ce68-41a2-da98-d8af851a366b",
        "colab": {
          "base_uri": "https://localhost:8080/"
        }
      },
      "execution_count": null,
      "outputs": [
        {
          "output_type": "execute_result",
          "data": {
            "text/plain": [
              "(50, 2)"
            ]
          },
          "metadata": {},
          "execution_count": 116
        }
      ]
    },
    {
      "cell_type": "code",
      "source": [
        "# y = x + b\n",
        "X_1[0]"
      ],
      "metadata": {
        "colab": {
          "base_uri": "https://localhost:8080/"
        },
        "id": "AotNYAQ6ZXCE",
        "outputId": "9dc77cd9-1297-483f-b0c9-db09bc7d7402"
      },
      "execution_count": null,
      "outputs": [
        {
          "output_type": "execute_result",
          "data": {
            "text/plain": [
              "array([1., 0.])"
            ]
          },
          "metadata": {},
          "execution_count": 122
        }
      ]
    },
    {
      "cell_type": "code",
      "source": [
        "a_thetas[0]"
      ],
      "metadata": {
        "colab": {
          "base_uri": "https://localhost:8080/"
        },
        "id": "CXtaUx-jZaHs",
        "outputId": "7f1edb0c-6919-4b90-fbe7-1b6abf38c62d"
      },
      "execution_count": null,
      "outputs": [
        {
          "output_type": "execute_result",
          "data": {
            "text/plain": [
              "array([1.88715824, 1.38804772])"
            ]
          },
          "metadata": {},
          "execution_count": 123
        }
      ]
    },
    {
      "cell_type": "code",
      "source": [
        "X_1[0] @ a_thetas[0]"
      ],
      "metadata": {
        "colab": {
          "base_uri": "https://localhost:8080/"
        },
        "id": "dC2MXxeXR7to",
        "outputId": "fbc057f0-4b3c-44f6-f2f3-9e5f5d8dd2d0"
      },
      "execution_count": null,
      "outputs": [
        {
          "output_type": "execute_result",
          "data": {
            "text/plain": [
              "1.8871582438567767"
            ]
          },
          "metadata": {},
          "execution_count": 120
        }
      ]
    },
    {
      "cell_type": "code",
      "source": [
        "# y = x + b\n",
        "X_1[1]"
      ],
      "metadata": {
        "outputId": "8121b67d-99e6-498c-dc5f-bbbaf018654c",
        "colab": {
          "base_uri": "https://localhost:8080/"
        },
        "id": "qo1ugXTeeXRA"
      },
      "execution_count": null,
      "outputs": [
        {
          "output_type": "execute_result",
          "data": {
            "text/plain": [
              "array([1.        , 0.04081633])"
            ]
          },
          "metadata": {},
          "execution_count": 124
        }
      ]
    },
    {
      "cell_type": "code",
      "source": [
        "a_thetas[1]"
      ],
      "metadata": {
        "outputId": "3bd5cdd0-2693-4c23-e5ae-89a8a9e8a0fe",
        "colab": {
          "base_uri": "https://localhost:8080/"
        },
        "id": "9pfVKDCXeXRB"
      },
      "execution_count": null,
      "outputs": [
        {
          "output_type": "execute_result",
          "data": {
            "text/plain": [
              "array([1.88715824, 1.38804772])"
            ]
          },
          "metadata": {},
          "execution_count": 125
        }
      ]
    },
    {
      "cell_type": "code",
      "source": [
        "X_1[0] @ a_thetas[0]"
      ],
      "metadata": {
        "outputId": "fbc057f0-4b3c-44f6-f2f3-9e5f5d8dd2d0",
        "colab": {
          "base_uri": "https://localhost:8080/"
        },
        "id": "6CUah9tNeXRB"
      },
      "execution_count": null,
      "outputs": [
        {
          "output_type": "execute_result",
          "data": {
            "text/plain": [
              "1.8871582438567767"
            ]
          },
          "metadata": {},
          "execution_count": 120
        }
      ]
    },
    {
      "cell_type": "code",
      "source": [
        "a_thetas"
      ],
      "metadata": {
        "id": "xmbK99UnYHxu",
        "outputId": "cd3a08da-1836-4e0f-eca3-2f20e51c9b33",
        "colab": {
          "base_uri": "https://localhost:8080/"
        }
      },
      "execution_count": null,
      "outputs": [
        {
          "output_type": "execute_result",
          "data": {
            "text/plain": [
              "array([[1.88715824, 1.38804772],\n",
              "       [1.88715824, 1.38804772],\n",
              "       [2.71245651, 2.27593617],\n",
              "       [3.2057079 , 2.78934668]])"
            ]
          },
          "metadata": {},
          "execution_count": 126
        }
      ]
    },
    {
      "cell_type": "code",
      "source": [],
      "metadata": {
        "id": "x6-0fWKDed3n"
      },
      "execution_count": null,
      "outputs": []
    }
  ]
}