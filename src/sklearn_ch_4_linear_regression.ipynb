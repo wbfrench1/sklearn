{
  "nbformat": 4,
  "nbformat_minor": 0,
  "metadata": {
    "colab": {
      "provenance": [],
      "toc_visible": true,
      "authorship_tag": "ABX9TyP59DLVPS8pPQjcsNrNOMg7",
      "include_colab_link": true
    },
    "kernelspec": {
      "name": "python3",
      "display_name": "Python 3"
    },
    "language_info": {
      "name": "python"
    }
  },
  "cells": [
    {
      "cell_type": "markdown",
      "metadata": {
        "id": "view-in-github",
        "colab_type": "text"
      },
      "source": [
        "<a href=\"https://colab.research.google.com/github/wbfrench1/sklearn/blob/main/src/sklearn_ch_4_linear_regression.ipynb\" target=\"_parent\"><img src=\"https://colab.research.google.com/assets/colab-badge.svg\" alt=\"Open In Colab\"/></a>"
      ]
    },
    {
      "cell_type": "code",
      "source": [
        "import numpy as np\n",
        "import seaborn as sns\n",
        "import pandas as pd\n",
        "import matplotlib.pyplot as plt\n",
        "from sklearn.preprocessing import add_dummy_feature"
      ],
      "metadata": {
        "id": "PmBg9LyB6i-u"
      },
      "execution_count": null,
      "outputs": []
    },
    {
      "cell_type": "markdown",
      "source": [
        "## Linear Regression Model"
      ],
      "metadata": {
        "id": "fXaRjLm_q1j_"
      }
    },
    {
      "cell_type": "markdown",
      "source": [
        "$\\hat{y} = \\theta_0 + \\theta_1x_1 + \\theta_2x_2 +\\dotsb+ \\theta_nx_n $\n",
        "<br><br>\n",
        "\n",
        "$\\hat{y}$ is the predicted value\n",
        "\n",
        "n is the number of features\n",
        "\n",
        "x is the $i^{th}$ feature value\n",
        "\n",
        "$\\theta_j$ is the $j^{th}$  model parameter, including the bias term $\\theta_0$ and the feature weights $\\theta_1$, $\\theta_2$, $\\dotsc$, $\\theta_n$"
      ],
      "metadata": {
        "id": "um69d7FRvYEn"
      }
    },
    {
      "cell_type": "markdown",
      "source": [
        "## Linear Regression Model \\(Vectorized Form)"
      ],
      "metadata": {
        "id": "8-kHK8WrwjzP"
      }
    },
    {
      "cell_type": "markdown",
      "source": [
        "$\\mathbf{\\hat{y}} = h_\\mathbf{θ}(\\mathbf{x}) =\\mathbf{θ} \\cdot \\mathbf{x}$\n",
        "\n",
        "$h_\\mathbf{θ}$ is the hypothesis function\n",
        "\n",
        "$\\mathbf{θ}$ is the model's parameter vector, containing the bias term $\\theta_0$ and the feature weights $\\theta_1$ to $\\theta_n$\n",
        "\n",
        "$\\mathbf{x}$ is the instance's feature vector, containing $x_0$ to $x_n$ with $x_0$ always equal to 1\n"
      ],
      "metadata": {
        "id": "pn0fOLPu06gf"
      }
    },
    {
      "cell_type": "markdown",
      "source": [
        "## Performance Metric- MSE cost function for a linear regression model\n",
        "\n",
        "$\\displaystyle MSE(\\mathbf{X}, h_\\mathbf{\\theta})$ = $\\frac{1}{m}\\displaystyle\\sum_{i=1}^{m}(\\theta^\\intercal\\mathbf{x}^{(i)}-y^{(i)})^2$"
      ],
      "metadata": {
        "id": "OJOUKLhL0sxx"
      }
    },
    {
      "cell_type": "code",
      "source": [
        "np.random.seed(42)  # to make the example reproducible\n",
        "m = 100 # number of instances\n",
        "X = 2 * np.random.rand(m, 1)  # column vector\n",
        "y = 4 + 3 * X + np.random.rand(m, 1) # column vector"
      ],
      "metadata": {
        "id": "9n3h-N4V4GpM"
      },
      "execution_count": null,
      "outputs": []
    },
    {
      "cell_type": "code",
      "source": [
        "df = pd.DataFrame(np.concatenate((X,y),axis=1),columns=['X', 'y'])"
      ],
      "metadata": {
        "id": "XnRrwB5-h-vH"
      },
      "execution_count": null,
      "outputs": []
    },
    {
      "cell_type": "code",
      "source": [
        "g = sns.scatterplot(df, x='X', y='y',)\n",
        "g.set_title('X vs y') "
      ],
      "metadata": {
        "id": "uFLGvHUM7Cc2",
        "outputId": "a90a676d-8b7c-47c6-a486-5b7d9a6055f0",
        "colab": {
          "base_uri": "https://localhost:8080/",
          "height": 490
        }
      },
      "execution_count": null,
      "outputs": [
        {
          "output_type": "execute_result",
          "data": {
            "text/plain": [
              "Text(0.5, 1.0, 'X vs y')"
            ]
          },
          "metadata": {},
          "execution_count": 4
        },
        {
          "output_type": "display_data",
          "data": {
            "text/plain": [
              "<Figure size 640x480 with 1 Axes>"
            ],
            "image/png": "[encoded data removed]"
          },
          "metadata": {}
        }
      ]
    },
    {
      "cell_type": "markdown",
      "source": [
        "## Batch Gradient Descent\n",
        "\n",
        "### Partial dervices of the cost function\n",
        "\n",
        "$\\frac{\\partial{}}{\\partial \\theta_j} \\displaystyle{MSE}(\\displaystyle{\\mathbf{\\theta}}) = \\frac{2}{m}\\displaystyle\\sum_{i=1}^{m}(\\theta^\\intercal\\mathbf{x}^{(i)}-y^{(i)})x^{(i)}_j$\n",
        "\n",
        "### Gradient vector of the cost function\n",
        "\n",
        "$\\nabla_\\theta \\displaystyle{MSE(\\theta)} = \n",
        " \\begin{pmatrix}\n",
        "  \\frac{\\partial{}}{\\partial \\theta_0}\\displaystyle{MSE}(\\displaystyle{\\mathbf{\\theta}}) \\\\\n",
        "  \\frac{\\partial{}}{\\partial \\theta_1} \\displaystyle{MSE}(\\displaystyle{\\mathbf{\\theta}})\\\\\n",
        "  \\vdots \\\\\n",
        "  \\frac{\\partial{}}{\\partial \\theta_n} \\displaystyle{MSE}(\\displaystyle{\\mathbf{\\theta}})\\\\\n",
        " \\end{pmatrix} = \\frac{2}{m}\\displaystyle{\\mathbf{X}}^\\intercal(\\displaystyle{\\mathbf{X\\theta}} - \\mathbf{y})$\n",
        "\n",
        "### Gradient descent step\n",
        "$\\mathbf{\\theta}^{(next \\, step)}  = \\mathbf{\\theta} -  \\eta\\nabla_\\theta\\displaystyle{MSE}(\\displaystyle{\\mathbf{\\theta}})$\n"
      ],
      "metadata": {
        "id": "OAwc-Q4-7hr7"
      }
    },
    {
      "cell_type": "code",
      "source": [
        "X_b = add_dummy_feature(X) # add X0 = 1 to each instance\n",
        "\n",
        "eta = 0.1 # learning rate\n",
        "n_epochs = 1000\n",
        "m = len(X_b)  # number of instances"
      ],
      "metadata": {
        "id": "HZIHyjDQkeAS"
      },
      "execution_count": null,
      "outputs": []
    },
    {
      "cell_type": "code",
      "source": [
        "np.random.seed(42)\n",
        "theta = np.random.randn(2,1)  # randomly initialized model parameters"
      ],
      "metadata": {
        "id": "ZyuB_7bExItK"
      },
      "execution_count": null,
      "outputs": []
    },
    {
      "cell_type": "code",
      "source": [
        "# updates the gradient values\n",
        "for epoch in range(n_epochs):\n",
        "    gradients = 2/m * X_b.T @ (X_b @ theta - y)\n",
        "    theta = theta - eta * gradients"
      ],
      "metadata": {
        "id": "rHIJpvswxrnq"
      },
      "execution_count": null,
      "outputs": []
    },
    {
      "cell_type": "code",
      "source": [
        "# input x's -- each one is a complete set of independent variables\n",
        "print(X_b.shape)\n",
        "X_b[:3]"
      ],
      "metadata": {
        "id": "8Ybw5Z7pzGXe",
        "outputId": "e56376a4-3eb7-4fdb-ea30-ce05a9c68efc",
        "colab": {
          "base_uri": "https://localhost:8080/"
        }
      },
      "execution_count": null,
      "outputs": [
        {
          "output_type": "stream",
          "name": "stdout",
          "text": [
            "(100, 2)\n"
          ]
        },
        {
          "output_type": "execute_result",
          "data": {
            "text/plain": [
              "array([[1.        , 0.74908024],\n",
              "       [1.        , 1.90142861],\n",
              "       [1.        , 1.46398788]])"
            ]
          },
          "metadata": {},
          "execution_count": 11
        }
      ]
    },
    {
      "cell_type": "code",
      "source": [
        "# predictions\n",
        "print((X_b @ theta).shape)\n",
        "(X_b @ theta)[:3]"
      ],
      "metadata": {
        "id": "gnes10j7zKi1",
        "outputId": "b53a6703-ccfb-43b8-bc97-2b9a69da1188",
        "colab": {
          "base_uri": "https://localhost:8080/"
        }
      },
      "execution_count": null,
      "outputs": [
        {
          "output_type": "stream",
          "name": "stdout",
          "text": [
            "(100, 1)\n"
          ]
        },
        {
          "output_type": "execute_result",
          "data": {
            "text/plain": [
              "array([[ 6.74827942],\n",
              "       [10.18600448],\n",
              "       [ 8.88101635]])"
            ]
          },
          "metadata": {},
          "execution_count": 13
        }
      ]
    },
    {
      "cell_type": "code",
      "source": [
        "# cost function (predicted value - actual value)\n",
        "(X_b @ theta - y)[:3]"
      ],
      "metadata": {
        "id": "ejQ7V8dhyHYK",
        "outputId": "ea844bbb-dd83-433c-cc2b-3cb76197463d",
        "colab": {
          "base_uri": "https://localhost:8080/"
        }
      },
      "execution_count": null,
      "outputs": [
        {
          "output_type": "execute_result",
          "data": {
            "text/plain": [
              "array([[ 0.46960952],\n",
              "       [-0.15469177],\n",
              "       [ 0.17469672]])"
            ]
          },
          "metadata": {},
          "execution_count": 10
        }
      ]
    },
    {
      "cell_type": "code",
      "source": [
        "theta"
      ],
      "metadata": {
        "id": "smWoyT2uyro3",
        "colab": {
          "base_uri": "https://localhost:8080/"
        },
        "outputId": "0e05646d-1133-4bb6-e8fb-360c0b91351e"
      },
      "execution_count": null,
      "outputs": [
        {
          "output_type": "execute_result",
          "data": {
            "text/plain": [
              "array([[4.51359766],\n",
              "       [2.98323418]])"
            ]
          },
          "metadata": {},
          "execution_count": 14
        }
      ]
    },
    {
      "cell_type": "markdown",
      "source": [
        "## Illustration of various learning rates"
      ],
      "metadata": {
        "id": "AQDrbdzNHNI_"
      }
    },
    {
      "cell_type": "code",
      "source": [
        "# start off with one learning rate and do the below\n",
        "# create a list of learning rates\n",
        "# run a complete set of epochs for each learning rate\n",
        "## for each epoch save the resulting regression equation\n",
        "# for each learning rate, graph the set of regression equations\n",
        "## each equation should have a progressively darker line"
      ],
      "metadata": {
        "id": "tQ4pp2unHxN-"
      },
      "execution_count": null,
      "outputs": []
    },
    {
      "cell_type": "code",
      "source": [
        "def update_regression_coefs (a_X_b: np.ndarray, \n",
        "                          a_y: np.ndarray,\n",
        "                          a_theta: np.ndarray,\n",
        "                          f_eta: float,\n",
        "                          ) -> np.ndarray:\n",
        "\n",
        "    ''' a_X= an np.ndarray containing independent variables\n",
        "        a_y= an np.ndarray containing dependent variable\n",
        "        a_theta = an np.ndarray containing the current regression coefficients\n",
        "        f_eta = a float containing the learning rate for the algorithm\n",
        "\n",
        "        returns: np.ndarray containing the updated regression line cofficients \n",
        "    '''\n",
        "\n",
        "    # updates the gradient values\n",
        "    a_gradients = 2/m * a_X_b.T @ (a_X_b @ theta - a_y)\n",
        "    a_theta = theta - f_eta * a_gradients\n",
        "\n",
        "    return a_theta"
      ],
      "metadata": {
        "id": "qjy0JvZFIn0v"
      },
      "execution_count": null,
      "outputs": []
    },
    {
      "cell_type": "code",
      "source": [
        "# test new function\n",
        "np.random.seed(42)\n",
        "theta = np.random.randn(2,1)  # randomly initialized model parameters\n",
        "\n",
        "# \n",
        "update_regression_coefs(a_X_b= X_b,\n",
        "                     a_y= y,\n",
        "                     a_theta= theta,\n",
        "                     f_eta = 0.1)"
      ],
      "metadata": {
        "colab": {
          "base_uri": "https://localhost:8080/"
        },
        "id": "t0fTrkxbKlX0",
        "outputId": "93d42529-053b-4a5e-ce89-b296ed8c996e"
      },
      "execution_count": null,
      "outputs": [
        {
          "output_type": "execute_result",
          "data": {
            "text/plain": [
              "array([[1.88715824],\n",
              "       [1.38804772]])"
            ]
          },
          "metadata": {},
          "execution_count": 25
        }
      ]
    },
    {
      "cell_type": "code",
      "source": [
        "# test looping\n",
        "\n",
        "def train_regression_model (a_X_b: np.ndarray, \n",
        "                            a_y: np.ndarray,\n",
        "                            f_eta: float,\n",
        "                            int_epochs: int,\n",
        "                            ) -> list:\n",
        "\n",
        "    ''' a_X= an np.ndarray containing independent variables\n",
        "        a_y= an np.ndarray containing dependent variable\n",
        "        f_eta = a float containing the learning rate for the algorithm\n",
        "        int_epochs= a integer representing number of times \n",
        "\n",
        "        returns: np.ndarray containing the updated regression line cofficients \n",
        "    '''\n",
        "\n",
        "l_thetas= []\n",
        "int_epochs = 3\n",
        "\n",
        "np.random.seed(42)\n",
        "theta = np.random.randn(2,1)  # randomly initialized model parameters\n",
        "print(theta)\n",
        "\n",
        "for epoch in range(0, int_epochs):\n",
        "    theta = update_regression_coefs(a_X_b= X_b,\n",
        "                                    a_y= y,\n",
        "                                    a_theta= theta,\n",
        "                                    f_eta = 0.1\n",
        "                                    )\n",
        "    l_thetas.append(theta)\n",
        "    \n"
      ],
      "metadata": {
        "colab": {
          "base_uri": "https://localhost:8080/"
        },
        "id": "730MTR_JLkgb",
        "outputId": "b034ace8-76ba-414c-9d35-6e34e1196cec"
      },
      "execution_count": null,
      "outputs": [
        {
          "output_type": "stream",
          "name": "stdout",
          "text": [
            "[[ 0.49671415]\n",
            " [-0.1382643 ]]\n",
            "[array([[1.88715824],\n",
            "       [1.38804772]]), array([[2.71245651],\n",
            "       [2.27593617]]), array([[3.2057079 ],\n",
            "       [2.78934668]])]\n"
          ]
        }
      ]
    },
    {
      "cell_type": "code",
      "source": [],
      "metadata": {
        "id": "IeRQYUMnMKSz"
      },
      "execution_count": null,
      "outputs": []
    }
  ]
}