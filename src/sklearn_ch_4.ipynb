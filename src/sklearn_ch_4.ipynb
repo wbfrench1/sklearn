{
  "nbformat": 4,
  "nbformat_minor": 0,
  "metadata": {
    "colab": {
      "provenance": [],
      "authorship_tag": "ABX9TyNkXW3an3BH+JOqiZ2ghlC3"
    },
    "kernelspec": {
      "name": "python3",
      "display_name": "Python 3"
    },
    "language_info": {
      "name": "python"
    }
  },
  "cells": [
    {
      "cell_type": "markdown",
      "source": [
        "<a target=\"_blank\" href=\"https://colab.research.google.com/github/wbfrench1/sklearn/blob/65d9d76be2f66d5c633fcb367c54d5e8c52a7791/src/sklearn_ch_4.ipynb\">\n",
        "  <img src=\"https://colab.research.google.com/assets/colab-badge.svg\" alt=\"Open In Colab\"/>\n",
        "</a>"
      ],
      "metadata": {
        "id": "mMQJ2y91q0PN"
      }
    },
    {
      "cell_type": "code",
      "source": [],
      "metadata": {
        "id": "fXaRjLm_q1j_"
      },
      "execution_count": null,
      "outputs": []
    }
  ]
}